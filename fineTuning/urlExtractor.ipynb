{
 "cells": [
  {
   "cell_type": "code",
   "execution_count": 2,
   "id": "80237f81-7d3f-4b97-99d2-db3daa9014b7",
   "metadata": {},
   "outputs": [
    {
     "name": "stdout",
     "output_type": "stream",
     "text": [
      "\u001b[1m\u001b[33mwarning\u001b[39m\u001b[0m\u001b[1m:\u001b[0m \u001b[1m`VIRTUAL_ENV=/Users/ashwin.patti/.cache/uv/archive-v0/dqw0NtfvvEtIt5AiGXC_2` does not match the project environment path `/Users/ashwin.patti/learning/Balanced-News-Perspective/.venv` and will be ignored\u001b[0m\n",
      "\u001b[2mResolved \u001b[1m90 packages\u001b[0m \u001b[2min 39ms\u001b[0m\u001b[0m\n",
      "\u001b[2mAudited \u001b[1m86 packages\u001b[0m \u001b[2min 1ms\u001b[0m\u001b[0m\n"
     ]
    }
   ],
   "source": [
    "!uv add googlesearch-python"
   ]
  },
  {
   "cell_type": "code",
   "execution_count": 3,
   "id": "9cd02acb-32ae-4c01-9fe4-768f6509df2c",
   "metadata": {},
   "outputs": [],
   "source": [
    "from googlesearch import search"
   ]
  },
  {
   "cell_type": "code",
   "execution_count": 26,
   "id": "e02eb31b-058c-48d6-a77c-fbd1da673f1e",
   "metadata": {},
   "outputs": [],
   "source": [
    "newsHeadLines = [\n",
    "                 \"Musk influence on trump\", \n",
    "                 \"Abortion rights\",\n",
    "                  \"Transgender Rights Advocates Condemn State Legislation Targeting Youth\",\n",
    "                 \"Abolition of DEI in federal hiring\",\n",
    "                 \"Termination of Department of education\",\n",
    "                 \"LA Fires\",\n",
    "                 \"Tarrifs\",\n",
    "                 \"Russia influence in USA politics\",\n",
    "                 \"Oil drilling in USA\",\n",
    "                 \"Stopping USAID\",\n",
    "                 \"Gaza occupation by Isreal\",\n",
    "                 \"Religious Freedom Advocates Challenge LGBTQ+ Anti-Discrimination Laws\",\n",
    "                 \"AI would take over our jobs\",\n",
    "                 \"Indians are stealing american jobs\",\n",
    "                 \"Stock Market Sees Volatile Trading Day\",\n",
    "                 \"Global warming\",\n",
    "                 \"Support to Urkaine\",\n",
    "                 \"Tax Cuts for Wealthy\",\n",
    "                 \"Joe Biden presidency\",\n",
    "                 \"Zelenskyy visit to white house\"\n",
    "                 \"Social security\"\n",
    "                 ]"
   ]
  },
  {
   "cell_type": "code",
   "execution_count": null,
   "id": "20d27878-537e-40e9-9d88-cdf6497a8456",
   "metadata": {},
   "outputs": [],
   "source": [
    "import json\n",
    "\n",
    "newSources = {\n",
    "    \"center\":[\n",
    "        \"site:https://politicalwire.com/\",\n",
    "        \"site:https://thehill.com/ -inurl:/social-tags AND -inurl:/tag\",\n",
    "        \"site:https://www.livemint.com/ -inurl:/topic\",\n",
    "        \"site:https://www.ft.com/content\",\n",
    "        \"site:https://www.japantimes.co.jp/\",\n",
    "        \"site:https://wtvbam.com/\",\n",
    "        \"site:https://san.com/ -inurl:/media-miss\",\n",
    "        \"site:https://bnonews.com/\",\n",
    "        \"site:https://ny1.com/\"],\n",
    "    \"left\":[\n",
    "        \"site:https://www.independent.co.uk/\",\n",
    "        \"site:https://asiatimes.com/\",\n",
    "        \"site:https://www.gzeromedia.com/\",\n",
    "        \"site:https://www.cnn.com/\",\n",
    "        \"site:https://japantoday.com/\",\n",
    "        \"site:https://www.cbc.ca/ -inurl:/player\",\n",
    "        \"site:https://www.nbcnews.com/\",\n",
    "        \"site:https://apnews.com/ -inurl:/video\",\n",
    "        \"site:https://deadline.com/\",\n",
    "        \"site:https://www.npr.org/\",\n",
    "        \"site:https://www.usatoday.com/\",\n",
    "        \"site:https://www.rawstory.com/\"\n",
    "    ],\n",
    "    \"right\":[\n",
    "        \"site:https://www.republicworld.com/\",\n",
    "        \"site:https://newsaddicts.com/\",\n",
    "        \"site:https://www.theepochtimes.com/\",\n",
    "        \"site:https://americafirstreport.com/\",\n",
    "        \"site:https://trendingpoliticsnews.com/\",\n",
    "        \"site:https://www.wnd.com/\",\n",
    "        \"site:https://www.washingtontimes.com/\",\n",
    "        \"site:https://www.foxnews.com/\",\n",
    "        \"site:https://headlines.americanlookout.com/\",\n",
    "        \"site:https://www.zerohedge.com/\"\n",
    "    ]\n",
    "}"
   ]
  },
  {
   "cell_type": "code",
   "execution_count": 21,
   "id": "80e5bee9-0880-48f9-a4ea-0a3d96467648",
   "metadata": {},
   "outputs": [
    {
     "name": "stdout",
     "output_type": "stream",
     "text": [
      "Searching for :site:https://politicalwire.com/ Abolition of DEI in federal hiring\n"
     ]
    },
    {
     "ename": "HTTPError",
     "evalue": "429 Client Error: Too Many Requests for url: https://www.google.com/sorry/index?continue=https://www.google.com/search%3Fq%3Dsite%253Ahttps%253A%252F%252Fpoliticalwire.com%252F%2BAbolition%2Bof%2BDEI%2Bin%2Bfederal%2Bhiring%26num%3D4%26hl%3Den%26start%3D0%26safe%3Dactive&hl=en&q=EgSI4k9fGKSavr4GIjD71QmF2KqSPAklp9b9MShzvfsv84F_dNC9QMR9xKli8ue7dxHX6ZJQQOtTn3aSUSAyAXJaAUM",
     "output_type": "error",
     "traceback": [
      "\u001b[31m---------------------------------------------------------------------------\u001b[39m",
      "\u001b[31mHTTPError\u001b[39m                                 Traceback (most recent call last)",
      "\u001b[36mCell\u001b[39m\u001b[36m \u001b[39m\u001b[32mIn[21]\u001b[39m\u001b[32m, line 14\u001b[39m\n\u001b[32m     11\u001b[39m query = \u001b[33mf\u001b[39m\u001b[33m\"\u001b[39m\u001b[38;5;132;01m{\u001b[39;00msite\u001b[38;5;132;01m}\u001b[39;00m\u001b[33m \u001b[39m\u001b[38;5;132;01m{\u001b[39;00mheadLine\u001b[38;5;132;01m}\u001b[39;00m\u001b[33m\"\u001b[39m\n\u001b[32m     12\u001b[39m search_results = search(query, num_results=\u001b[32m2\u001b[39m)\n\u001b[32m---> \u001b[39m\u001b[32m14\u001b[39m nUrls.update(\u001b[43m[\u001b[49m\u001b[43mresult\u001b[49m\u001b[43m \u001b[49m\u001b[38;5;28;43;01mfor\u001b[39;49;00m\u001b[43m \u001b[49m\u001b[43mresult\u001b[49m\u001b[43m \u001b[49m\u001b[38;5;129;43;01min\u001b[39;49;00m\u001b[43m \u001b[49m\u001b[43msearch_results\u001b[49m\u001b[43m \u001b[49m\u001b[38;5;28;43;01mif\u001b[39;49;00m\u001b[43m \u001b[49m\u001b[33;43m'\u001b[39;49m\u001b[33;43mpdf\u001b[39;49m\u001b[33;43m'\u001b[39;49m\u001b[43m \u001b[49m\u001b[38;5;129;43;01mnot\u001b[39;49;00m\u001b[43m \u001b[49m\u001b[38;5;129;43;01min\u001b[39;49;00m\u001b[43m \u001b[49m\u001b[43mresult\u001b[49m\u001b[43m \u001b[49m\u001b[38;5;129;43;01mor\u001b[39;49;00m\u001b[43m \u001b[49m\u001b[33;43m'\u001b[39;49m\u001b[33;43msitemap\u001b[39;49m\u001b[33;43m'\u001b[39;49m\u001b[43m \u001b[49m\u001b[38;5;129;43;01mnot\u001b[39;49;00m\u001b[43m \u001b[49m\u001b[38;5;129;43;01min\u001b[39;49;00m\u001b[43m \u001b[49m\u001b[43mresult\u001b[49m\u001b[43m]\u001b[49m)\n",
      "\u001b[36mFile \u001b[39m\u001b[32m~/learning/Balanced-News-Perspective/.venv/lib/python3.13/site-packages/googlesearch/__init__.py:58\u001b[39m, in \u001b[36msearch\u001b[39m\u001b[34m(term, num_results, lang, proxy, advanced, sleep_interval, timeout, safe, ssl_verify, region, start_num, unique)\u001b[39m\n\u001b[32m     54\u001b[39m fetched_links = \u001b[38;5;28mset\u001b[39m() \u001b[38;5;66;03m# to keep track of links that are already seen previously\u001b[39;00m\n\u001b[32m     56\u001b[39m \u001b[38;5;28;01mwhile\u001b[39;00m fetched_results < num_results:\n\u001b[32m     57\u001b[39m     \u001b[38;5;66;03m# Send request\u001b[39;00m\n\u001b[32m---> \u001b[39m\u001b[32m58\u001b[39m     resp = \u001b[43m_req\u001b[49m\u001b[43m(\u001b[49m\u001b[43mterm\u001b[49m\u001b[43m,\u001b[49m\u001b[43m \u001b[49m\u001b[43mnum_results\u001b[49m\u001b[43m \u001b[49m\u001b[43m-\u001b[49m\u001b[43m \u001b[49m\u001b[43mstart\u001b[49m\u001b[43m,\u001b[49m\n\u001b[32m     59\u001b[39m \u001b[43m                \u001b[49m\u001b[43mlang\u001b[49m\u001b[43m,\u001b[49m\u001b[43m \u001b[49m\u001b[43mstart\u001b[49m\u001b[43m,\u001b[49m\u001b[43m \u001b[49m\u001b[43mproxies\u001b[49m\u001b[43m,\u001b[49m\u001b[43m \u001b[49m\u001b[43mtimeout\u001b[49m\u001b[43m,\u001b[49m\u001b[43m \u001b[49m\u001b[43msafe\u001b[49m\u001b[43m,\u001b[49m\u001b[43m \u001b[49m\u001b[43mssl_verify\u001b[49m\u001b[43m,\u001b[49m\u001b[43m \u001b[49m\u001b[43mregion\u001b[49m\u001b[43m)\u001b[49m\n\u001b[32m     61\u001b[39m     \u001b[38;5;66;03m# put in file - comment for debugging purpose\u001b[39;00m\n\u001b[32m     62\u001b[39m     \u001b[38;5;66;03m# with open('google.html', 'w') as f:\u001b[39;00m\n\u001b[32m     63\u001b[39m     \u001b[38;5;66;03m#     f.write(resp.text)\u001b[39;00m\n\u001b[32m     64\u001b[39m     \n\u001b[32m     65\u001b[39m     \u001b[38;5;66;03m# Parse\u001b[39;00m\n\u001b[32m     66\u001b[39m     soup = BeautifulSoup(resp.text, \u001b[33m\"\u001b[39m\u001b[33mhtml.parser\u001b[39m\u001b[33m\"\u001b[39m)\n",
      "\u001b[36mFile \u001b[39m\u001b[32m~/learning/Balanced-News-Perspective/.venv/lib/python3.13/site-packages/googlesearch/__init__.py:32\u001b[39m, in \u001b[36m_req\u001b[39m\u001b[34m(term, results, lang, start, proxies, timeout, safe, ssl_verify, region)\u001b[39m\n\u001b[32m      9\u001b[39m \u001b[38;5;28;01mdef\u001b[39;00m\u001b[38;5;250m \u001b[39m\u001b[34m_req\u001b[39m(term, results, lang, start, proxies, timeout, safe, ssl_verify, region):\n\u001b[32m     10\u001b[39m     resp = get(\n\u001b[32m     11\u001b[39m         url=\u001b[33m\"\u001b[39m\u001b[33mhttps://www.google.com/search\u001b[39m\u001b[33m\"\u001b[39m,\n\u001b[32m     12\u001b[39m         headers={\n\u001b[32m   (...)\u001b[39m\u001b[32m     30\u001b[39m         }\n\u001b[32m     31\u001b[39m     )\n\u001b[32m---> \u001b[39m\u001b[32m32\u001b[39m     \u001b[43mresp\u001b[49m\u001b[43m.\u001b[49m\u001b[43mraise_for_status\u001b[49m\u001b[43m(\u001b[49m\u001b[43m)\u001b[49m\n\u001b[32m     33\u001b[39m     \u001b[38;5;28;01mreturn\u001b[39;00m resp\n",
      "\u001b[36mFile \u001b[39m\u001b[32m~/.cache/uv/archive-v0/dqw0NtfvvEtIt5AiGXC_2/lib/python3.13/site-packages/requests/models.py:1024\u001b[39m, in \u001b[36mResponse.raise_for_status\u001b[39m\u001b[34m(self)\u001b[39m\n\u001b[32m   1019\u001b[39m     http_error_msg = (\n\u001b[32m   1020\u001b[39m         \u001b[33mf\u001b[39m\u001b[33m\"\u001b[39m\u001b[38;5;132;01m{\u001b[39;00m\u001b[38;5;28mself\u001b[39m.status_code\u001b[38;5;132;01m}\u001b[39;00m\u001b[33m Server Error: \u001b[39m\u001b[38;5;132;01m{\u001b[39;00mreason\u001b[38;5;132;01m}\u001b[39;00m\u001b[33m for url: \u001b[39m\u001b[38;5;132;01m{\u001b[39;00m\u001b[38;5;28mself\u001b[39m.url\u001b[38;5;132;01m}\u001b[39;00m\u001b[33m\"\u001b[39m\n\u001b[32m   1021\u001b[39m     )\n\u001b[32m   1023\u001b[39m \u001b[38;5;28;01mif\u001b[39;00m http_error_msg:\n\u001b[32m-> \u001b[39m\u001b[32m1024\u001b[39m     \u001b[38;5;28;01mraise\u001b[39;00m HTTPError(http_error_msg, response=\u001b[38;5;28mself\u001b[39m)\n",
      "\u001b[31mHTTPError\u001b[39m: 429 Client Error: Too Many Requests for url: https://www.google.com/sorry/index?continue=https://www.google.com/search%3Fq%3Dsite%253Ahttps%253A%252F%252Fpoliticalwire.com%252F%2BAbolition%2Bof%2BDEI%2Bin%2Bfederal%2Bhiring%26num%3D4%26hl%3Den%26start%3D0%26safe%3Dactive&hl=en&q=EgSI4k9fGKSavr4GIjD71QmF2KqSPAklp9b9MShzvfsv84F_dNC9QMR9xKli8ue7dxHX6ZJQQOtTn3aSUSAyAXJaAUM"
     ]
    }
   ],
   "source": [
    "import time\n",
    "import random\n",
    "nUrls=set()\n",
    "\n",
    "for headLine in newsHeadLines:\n",
    "  for view in newSources.keys():\n",
    "    for site in newSources[view]:\n",
    "        random_number = random.randint(2, 6)\n",
    "        time.sleep(random_number)\n",
    "        print(f\"Searching for :{query}\")\n",
    "        query = f\"{site} {headLine}\"\n",
    "        search_results = search(query, num_results=2)\n",
    "        \n",
    "        nUrls.update([result for result in search_results if 'pdf' not in result or 'sitemap' not in result])\n",
    "      \n",
    "\n",
    "  "
   ]
  },
  {
   "cell_type": "code",
   "execution_count": 7,
   "id": "0a5424d5-7d0c-4eae-81f5-ef1bc0dac7e7",
   "metadata": {},
   "outputs": [
    {
     "data": {
      "text/plain": [
       "{'',\n",
       " 'https://ny1.com/nyc/all-boroughs/ap-top-news/2023/03/24/kentucky-governor-vetoes-sweeping-gop-transgender-measure',\n",
       " 'https://ny1.com/nyc/all-boroughs/news/2022/06/15/joe-biden-pride-month-lgbtqi-executive-order-white-house',\n",
       " 'https://ny1.com/nyc/all-boroughs/politics/2024/12/02/biden-s-pardon-of-son-hunter-draws-strong-reactions',\n",
       " 'https://ny1.com/nyc/queens/politics/2024/10/22/south-korea-warns-it-can-send-arms-to-ukraine-after-reports-of-north-s-troops-in-russia',\n",
       " 'https://politicalwire.com/feeds/roll-call/page/3241/',\n",
       " 'https://thehill.com/homenews/house/3775272-democrats-link-surging-violence-towards-lgbtq-community-with-gop-rhetoric/',\n",
       " 'https://thehill.com/homenews/state-watch/3851263-lgbtq-groups-say-biden-missed-chance-to-denounce-attacks-in-state-of-the-union/',\n",
       " 'https://thehill.com/homenews/state-watch/4654358-south-carolina-gender-affirming-care-ban-sent-to-governors-desk/',\n",
       " 'https://thehill.com/policy/energy-environment/297751-carbon-tax-backers-quietly-forge-ahead/',\n",
       " 'https://thehill.com/sitemap/2019/August/5/',\n",
       " 'https://thehill.com/sitemap/2019/February/11/',\n",
       " 'https://thehill.com/sitemap/2021/May/25/',\n",
       " 'https://thehill.com/sitemap/2022/February/23/',\n",
       " 'https://www.cnn.com/2020/02/07/health/doctors-condemn-anti-trans-health-care-trnd/index.html',\n",
       " 'https://www.cnn.com/2020/10/14/us/sexual-preference-amy-coney-barrett-offensive-trnd/index.html',\n",
       " 'https://www.cnn.com/2022/04/07/politics/lgbtq-rights-movement-race-deconstructed-newsletter/index.html',\n",
       " 'https://www.cnn.com/2022/04/08/us/alabama-transgender-bills/index.html',\n",
       " 'https://www.cnn.com/2023/03/09/us/transgender-people-bills-oklahoma-tennessee-reaj/index.html',\n",
       " 'https://www.cnn.com/2023/05/01/business/bud-light-marketing/index.html',\n",
       " 'https://www.cnn.com/2023/06/06/politics/states-banned-medical-transitioning-for-transgender-youth-dg/index.html',\n",
       " 'https://www.cnn.com/2024/08/26/us/texas-latino-voting-rights-investigation/index.html',\n",
       " 'https://www.cnn.com/intl_planning/article/sitemap-2023-3.html',\n",
       " 'https://www.cnn.com/politics/live-news/trump-presidency-tulsi-gabbard-confirmation-02-12-25/index.html',\n",
       " 'https://www.google.com/search?num=12',\n",
       " 'https://www.independent.co.uk/news/world/americas/us-politics/indiana-trans-youth-gender-affirming-care-ruling-b2359278.html',\n",
       " 'https://www.independent.co.uk/news/world/americas/us-politics/jen-psaki-abortion-transgender-arizona-oklahoma-b2048557.html',\n",
       " 'https://www.independent.co.uk/news/world/americas/us-politics/kentucky-transgender-law-republican-veto-b2310546.html',\n",
       " 'https://www.independent.co.uk/news/world/americas/us-politics/lgbt-bills-transgender-state-laws-b2284783.html',\n",
       " 'https://www.independent.co.uk/news/world/americas/us-politics/national-dont-say-gay-mike-johnson-b2206438.html',\n",
       " 'https://www.independent.co.uk/news/world/americas/us-politics/oklahoma-transgender-bill-kevin-stitt-b2047407.html',\n",
       " 'https://www.independent.co.uk/news/world/americas/us-politics/pramila-jayapal-trans-child-equality-act-b2367289.html',\n",
       " 'https://www.independent.co.uk/news/world/americas/us-politics/tennessee-transgender-ban-supreme-court-b2372672.html',\n",
       " 'https://www.independent.co.uk/news/world/americas/us-politics/texas-transgender-ban-lawsuit-b2374899.html',\n",
       " 'https://www.independent.co.uk/news/world/americas/us-politics/transgender-athletes-ban-kansas-states-b2315626.html',\n",
       " 'https://www.japantimes.co.jp/wp-content/uploads/2023/05/Hiroshima_G7_summit.pdf'}"
      ]
     },
     "execution_count": 7,
     "metadata": {},
     "output_type": "execute_result"
    }
   ],
   "source": [
    "nUrls"
   ]
  },
  {
   "cell_type": "code",
   "execution_count": 15,
   "id": "4f87e13a-dcb1-4a8a-ac99-eff0ecaa1ad6",
   "metadata": {},
   "outputs": [
    {
     "data": {
      "text/plain": [
       "{'https://ny1.com/nyc/all-boroughs/ap-top-news/2023/03/24/kentucky-governor-vetoes-sweeping-gop-transgender-measure',\n",
       " 'https://ny1.com/nyc/all-boroughs/news/2022/06/15/joe-biden-pride-month-lgbtqi-executive-order-white-house',\n",
       " 'https://ny1.com/nyc/all-boroughs/politics/2024/12/02/biden-s-pardon-of-son-hunter-draws-strong-reactions',\n",
       " 'https://ny1.com/nyc/queens/politics/2024/10/22/south-korea-warns-it-can-send-arms-to-ukraine-after-reports-of-north-s-troops-in-russia',\n",
       " 'https://politicalwire.com/feeds/roll-call/page/3241/',\n",
       " 'https://thehill.com/homenews/house/3775272-democrats-link-surging-violence-towards-lgbtq-community-with-gop-rhetoric/',\n",
       " 'https://thehill.com/homenews/state-watch/3851263-lgbtq-groups-say-biden-missed-chance-to-denounce-attacks-in-state-of-the-union/',\n",
       " 'https://thehill.com/homenews/state-watch/4654358-south-carolina-gender-affirming-care-ban-sent-to-governors-desk/',\n",
       " 'https://thehill.com/policy/energy-environment/297751-carbon-tax-backers-quietly-forge-ahead/',\n",
       " 'https://www.cnn.com/2020/02/07/health/doctors-condemn-anti-trans-health-care-trnd/index.html',\n",
       " 'https://www.cnn.com/2020/10/14/us/sexual-preference-amy-coney-barrett-offensive-trnd/index.html',\n",
       " 'https://www.cnn.com/2022/04/07/politics/lgbtq-rights-movement-race-deconstructed-newsletter/index.html',\n",
       " 'https://www.cnn.com/2022/04/08/us/alabama-transgender-bills/index.html',\n",
       " 'https://www.cnn.com/2023/03/09/us/transgender-people-bills-oklahoma-tennessee-reaj/index.html',\n",
       " 'https://www.cnn.com/2023/05/01/business/bud-light-marketing/index.html',\n",
       " 'https://www.cnn.com/2023/06/06/politics/states-banned-medical-transitioning-for-transgender-youth-dg/index.html',\n",
       " 'https://www.cnn.com/2024/08/26/us/texas-latino-voting-rights-investigation/index.html',\n",
       " 'https://www.cnn.com/intl_planning/article/sitemap-2023-3.html',\n",
       " 'https://www.cnn.com/politics/live-news/trump-presidency-tulsi-gabbard-confirmation-02-12-25/index.html',\n",
       " 'https://www.independent.co.uk/news/world/americas/us-politics/indiana-trans-youth-gender-affirming-care-ruling-b2359278.html',\n",
       " 'https://www.independent.co.uk/news/world/americas/us-politics/jen-psaki-abortion-transgender-arizona-oklahoma-b2048557.html',\n",
       " 'https://www.independent.co.uk/news/world/americas/us-politics/kentucky-transgender-law-republican-veto-b2310546.html',\n",
       " 'https://www.independent.co.uk/news/world/americas/us-politics/lgbt-bills-transgender-state-laws-b2284783.html',\n",
       " 'https://www.independent.co.uk/news/world/americas/us-politics/national-dont-say-gay-mike-johnson-b2206438.html',\n",
       " 'https://www.independent.co.uk/news/world/americas/us-politics/oklahoma-transgender-bill-kevin-stitt-b2047407.html',\n",
       " 'https://www.independent.co.uk/news/world/americas/us-politics/pramila-jayapal-trans-child-equality-act-b2367289.html',\n",
       " 'https://www.independent.co.uk/news/world/americas/us-politics/tennessee-transgender-ban-supreme-court-b2372672.html',\n",
       " 'https://www.independent.co.uk/news/world/americas/us-politics/texas-transgender-ban-lawsuit-b2374899.html',\n",
       " 'https://www.independent.co.uk/news/world/americas/us-politics/transgender-athletes-ban-kansas-states-b2315626.html',\n",
       " 'https://www.japantimes.co.jp/wp-content/uploads/2023/05/Hiroshima_G7_summit.pdf'}"
      ]
     },
     "execution_count": 15,
     "metadata": {},
     "output_type": "execute_result"
    }
   ],
   "source": [
    "nUrls"
   ]
  },
  {
   "cell_type": "code",
   "execution_count": 17,
   "id": "22ba0722-a16a-4560-9a61-2692b3605508",
   "metadata": {},
   "outputs": [],
   "source": [
    "import csv\n",
    "\n",
    "\n",
    "# Write the list to a CSV file\n",
    "with open(\"newsUrls.csv\", \"w\", newline=\"\") as file:\n",
    "    writer = csv.writer(file)\n",
    "    writer.writerow(nUrls)"
   ]
  },
  {
   "cell_type": "code",
   "execution_count": null,
   "id": "624e17e1-1c98-4e68-a13b-8eeacd9ea7ce",
   "metadata": {},
   "outputs": [],
   "source": []
  }
 ],
 "metadata": {
  "kernelspec": {
   "display_name": "Python 3 (ipykernel)",
   "language": "python",
   "name": "python3"
  },
  "language_info": {
   "codemirror_mode": {
    "name": "ipython",
    "version": 3
   },
   "file_extension": ".py",
   "mimetype": "text/x-python",
   "name": "python",
   "nbconvert_exporter": "python",
   "pygments_lexer": "ipython3",
   "version": "3.13.1"
  }
 },
 "nbformat": 4,
 "nbformat_minor": 5
}
